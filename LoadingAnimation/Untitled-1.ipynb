{
 "cells": [
  {
   "cell_type": "code",
   "execution_count": 1,
   "metadata": {},
   "outputs": [
    {
     "name": "stdout",
     "output_type": "stream",
     "text": [
      "Total frames: 161\n"
     ]
    }
   ],
   "source": [
    "import cv2 as cv2\n",
    "import numpy as np\n",
    "\n",
    "def get_first_and_last_frame(video_path):\n",
    "    cap = cv2.VideoCapture(video_path)\n",
    "    if not cap.isOpened():\n",
    "        print(\"Error: Could not open video.\")\n",
    "        return\n",
    "\n",
    "    total_frames = 0\n",
    "    first_frame = None\n",
    "    last_frame = None\n",
    "\n",
    "    # Read frames in a loop\n",
    "    while True:\n",
    "        ret, frame = cap.read()\n",
    "        if not ret:\n",
    "            break\n",
    "        total_frames += 1\n",
    "        if total_frames == 1:\n",
    "            first_frame = frame  # Save the first frame\n",
    "        last_frame = frame  # Continuously update to save the last frame\n",
    "\n",
    "    # Release the video capture object\n",
    "    cap.release()\n",
    "\n",
    "    print(\"Total frames:\", total_frames)\n",
    "    if first_frame is not None:\n",
    "        cv2.imshow('First Frame', first_frame+70)\n",
    "    if last_frame is not None:\n",
    "        cv2.imshow('Last Frame', last_frame)\n",
    "\n",
    "    cv2.waitKey(0)  # Wait for a key press to exit\n",
    "    cv2.destroyAllWindows()  # Close the image display window\n",
    "\n",
    "# Replace 'path_to_video.webm' with your video file path\n",
    "\n",
    "\n",
    "get_first_and_last_frame('BACARDI-A.webm')"
   ]
  },
  {
   "cell_type": "code",
   "execution_count": null,
   "metadata": {},
   "outputs": [],
   "source": []
  }
 ],
 "metadata": {
  "kernelspec": {
   "display_name": "openhands",
   "language": "python",
   "name": "python3"
  },
  "language_info": {
   "codemirror_mode": {
    "name": "ipython",
    "version": 3
   },
   "file_extension": ".py",
   "mimetype": "text/x-python",
   "name": "python",
   "nbconvert_exporter": "python",
   "pygments_lexer": "ipython3",
   "version": "3.11.5"
  }
 },
 "nbformat": 4,
 "nbformat_minor": 2
}
